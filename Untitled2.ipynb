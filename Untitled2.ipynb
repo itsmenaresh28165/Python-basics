{
  "nbformat": 4,
  "nbformat_minor": 0,
  "metadata": {
    "colab": {
      "provenance": []
    },
    "kernelspec": {
      "name": "python3",
      "display_name": "Python 3"
    },
    "language_info": {
      "name": "python"
    }
  },
  "cells": [
    {
      "cell_type": "code",
      "execution_count": null,
      "metadata": {
        "id": "HuyqpiqJLHGL"
      },
      "outputs": [],
      "source": []
    },
    {
      "cell_type": "markdown",
      "source": [
        "# Python basic question\n"
      ],
      "metadata": {
        "id": "Oyege6CmLRXP"
      }
    },
    {
      "cell_type": "markdown",
      "source": [
        "1. What is Python, and why is it popular?\n",
        "-Python is a high-level, interpreted programming language that emphasizes readability and simplicity. It was created by Guido van Rossum and released in 1991.Python is popular because it is easy to learn, has a simple syntax, and offers versatility for various applications like web development, data science, and machine learning. It has a vast library ecosystem, is open-source, cross-platform, and supported by a large community, enabling rapid development and innovation.\n"
      ],
      "metadata": {
        "id": "yfvlcHshPIb7"
      }
    },
    {
      "cell_type": "markdown",
      "source": [
        "2. What is an interpreter in python ?\n",
        "-An interpreter in Python is a program that executes Python code line by line. It converts the high-level Python code into machine-readable instructions for the computer to process, without requiring prior compilation.\n",
        "3. What are pre-defined keywords in Python?\n",
        "-Pre-defined keywords in Python are reserved words that have specific meanings and purposes within the language. These keywords cannot be used as variable names, function names, or identifiers because they are part of the Python syntax.\n",
        "4. Can keywords be used as variable names?\n",
        "-No, keywords cannot be used as variable names in Python. Since keywords have predefined meanings and are part of the Python syntax, using them as variable names will result in a SyntaxError.\n",
        "5. What is mutability in Python?\n",
        "-Mutability in Python refers to the ability of an object to be modified after it is created. Objects in Python are classified as either mutable (can be changed) or immutable (cannot be changed).\n",
        "6. Why are lists mutable, but tuples are immutable?\n",
        "-1. The difference in mutability between lists and tuples in Python is a design choice based on their intended use cases and performance considerations.\n",
        "7. What is the difference between “==” and “is” operators in Python?\n",
        "-The == operator in Python checks if two objects have the same values, while the is operator checks if they refer to the same memory location. For example, two lists with identical elements will return True with == but False with is if they are stored in different memory locations. However, for small immutable objects like strings or integers, Python may reuse memory (interning), so both == and is might return True. In short, == compares content, and is compares identity.\n",
        "8. What are logical operators in Python?\n",
        "-Logical operators in Python, such as and, or, and not, are used to perform operations on Boolean values. The and operator returns True if both conditions are True, while or returns True if at least one condition is True. The not operator reverses the Boolean value of a condition. These operators are essential for combining conditions and controlling program flow based on multiple criteria.\n",
        "\n",
        "\n",
        "\n",
        "\n",
        "\n",
        "\n",
        "\n",
        "\n",
        "\n",
        "\n",
        "\n",
        "\n",
        "\n",
        "\n",
        "\n"
      ],
      "metadata": {
        "id": "_qFjJ-v9QJch"
      }
    },
    {
      "cell_type": "markdown",
      "source": [
        "9.What is type casting in Python?\n",
        "-Type casting in Python refers to the process of converting one data type into another. It allows you to change a variable from one type (like an integer) to another type (like a string) to perform specific operations."
      ],
      "metadata": {
        "id": "VDOaFXT8V4oL"
      }
    },
    {
      "cell_type": "markdown",
      "source": [
        "10.What is the difference between implicit and explicit type casting?\n",
        " -Implicit type casting in Python occurs automatically when Python converts a lower data type (like an integer) to a higher data type (like a float) during operations. It happens without the programmer's intervention. For example, adding an integer to a float results in an implicit conversion of the integer to a float. On the other hand, explicit type casting requires the programmer to manually convert one data type to another using functions like int(), float(), or str(). This allows the programmer to control the conversion process. In short, implicit casting is automatic, while explicit casting is done intentionally by the programmer.\n"
      ],
      "metadata": {
        "id": "ac1F6KUTVX2C"
      }
    },
    {
      "cell_type": "code",
      "source": [],
      "metadata": {
        "id": "cvB4xBbcWgJt"
      },
      "execution_count": null,
      "outputs": []
    },
    {
      "cell_type": "markdown",
      "source": [
        "11.0 What is the purpose of conditional statements in Python?\n",
        "- The purpose of conditional statements in Python is to allow the program to make decisions and control the flow of execution based on certain conditions. Conditional statements enable the program to execute different code blocks depending on whether a specified condition is True or False. They are essential for implementing logic, such as performing actions under specific circumstances or handling multiple possible outcomes."
      ],
      "metadata": {
        "id": "rtrgwPaeWXSC"
      }
    },
    {
      "cell_type": "markdown",
      "source": [
        "13.What is the difference between for and while loops?\n",
        "\n",
        "for loop: Iterates over a sequence or a range for a known number of times.\n",
        "while loop: Continues as long as a specified condition remains True, and you may not know how many iterations it will run.\n",
        "In short, use a for loop when the number of iterations is known or fixed, and use a while loop when you need to continue as long as a condition is met.\n",
        "\n"
      ],
      "metadata": {
        "id": "4DOecewKWTW5"
      }
    },
    {
      "cell_type": "markdown",
      "source": [
        "14.0 Describe a scenario where a while loop is more suitable than a for loop.\n",
        "\n",
        "A while loop is more suitable than a for loop in scenarios where you don't know the exact number of iterations in advance and the loop needs to continue until a specific condition is met."
      ],
      "metadata": {
        "id": "7fKlsmkoQJfr"
      }
    },
    {
      "cell_type": "markdown",
      "source": [
        "# PRACTICAL QUESTION\n",
        "Write a Python program to print \"Hello, World!\n",
        "-"
      ],
      "metadata": {
        "id": "C2GKB50WLTH7"
      }
    },
    {
      "cell_type": "code",
      "source": [
        "print(\"hello world!\")"
      ],
      "metadata": {
        "colab": {
          "base_uri": "https://localhost:8080/"
        },
        "id": "r3R5rwx5cb9A",
        "outputId": "c090568d-5118-43df-a5e9-dea92017b1d0"
      },
      "execution_count": 1,
      "outputs": [
        {
          "output_type": "stream",
          "name": "stdout",
          "text": [
            "hello world!\n"
          ]
        }
      ]
    },
    {
      "cell_type": "markdown",
      "source": [
        "2. Write a Python program that displays your name and age?"
      ],
      "metadata": {
        "id": "glb4dTADLTaj"
      }
    },
    {
      "cell_type": "code",
      "source": [
        "print(\"name:,Prince\")\n",
        "print(\"age:,23\")"
      ],
      "metadata": {
        "colab": {
          "base_uri": "https://localhost:8080/"
        },
        "id": "aij-UJCqcyIc",
        "outputId": "4a6b0816-bd1d-4c62-943e-6cd98c928955"
      },
      "execution_count": 4,
      "outputs": [
        {
          "output_type": "stream",
          "name": "stdout",
          "text": [
            "name:,Prince\n",
            "age:,23\n"
          ]
        }
      ]
    },
    {
      "cell_type": "markdown",
      "source": [
        "3. Write code to print all the pre-defined keywords in Python using the keyword library?"
      ],
      "metadata": {
        "id": "VaRVYkWvdWN5"
      }
    },
    {
      "cell_type": "code",
      "source": [
        "import keyword\n",
        "\n",
        "# Print all the pre-defined keywords\n",
        "print(\"Python Keywords:\", keyword.kwlist)"
      ],
      "metadata": {
        "id": "rw2VXjMCdcN1"
      },
      "execution_count": null,
      "outputs": []
    },
    {
      "cell_type": "markdown",
      "source": [
        "4. Write a program that checks if a given word is a Python keyword."
      ],
      "metadata": {
        "id": "a6zoDrMceJmF"
      }
    },
    {
      "cell_type": "code",
      "source": [
        "import keyword\n",
        "\n",
        "# Input word from the user\n",
        "word = input(\"Enter a word: \")\n",
        "\n",
        "# Check if the word is a Python keyword\n",
        "if keyword.iskeyword(word):\n",
        "    print(f\"'{word}' is a Python keyword.\")\n",
        "else:\n",
        "    print(f\"'{word}' is not a Python keyword.\")"
      ],
      "metadata": {
        "id": "y8BesnejeOzb"
      },
      "execution_count": null,
      "outputs": []
    },
    {
      "cell_type": "markdown",
      "source": [
        "5.  Create a list and tuple in Python, and demonstrate how attempting to change an element works differently\n",
        "for each?"
      ],
      "metadata": {
        "id": "mZzkEknEezqV"
      }
    },
    {
      "cell_type": "markdown",
      "source": [],
      "metadata": {
        "id": "mbl-VwkhfIrz"
      }
    },
    {
      "cell_type": "code",
      "source": [
        "# Creating a list and a tuple\n",
        "my_list = [1, 2, 3, 4]\n",
        "my_tuple = (1, 2, 3, 4)\n",
        "\n",
        "# Trying to change an element in the list (this will work)\n",
        "my_list[2] = 10\n",
        "print(\"Modified list:\", my_list)\n",
        "\n",
        "# Trying to change an element in the tuple (this will raise an error)\n",
        "try:\n",
        "    my_tuple[2] = 10\n",
        "except TypeError as e:\n",
        "    print(f\"Error while modifying tuple: {e}\")\n"
      ],
      "metadata": {
        "id": "p801TE0lfNXv"
      },
      "execution_count": null,
      "outputs": []
    },
    {
      "cell_type": "markdown",
      "source": [
        "80 Write a function to demonstrate the behavior of mutable and immutable arguments?"
      ],
      "metadata": {
        "id": "G9rJQ-MufS3A"
      }
    },
    {
      "cell_type": "code",
      "source": [
        "# Function to demonstrate mutable and immutable arguments\n",
        "def demo_mutable_immutable(mutable_arg, immutable_arg):\n",
        "    # Modifying the mutable argument (a list)\n",
        "    mutable_arg.append(4)\n",
        "    print(\"Modified mutable argument:\", mutable_arg)\n",
        "\n",
        "    # Modifying the immutable argument (an integer)\n",
        "    immutable_arg += 10\n",
        "    print(\"Modified immutable argument:\", immutable_arg)\n",
        "\n",
        "# Mutable argument (a list)\n",
        "my_list = [1, 2, 3]\n",
        "\n",
        "# Immutable argument (an integer)\n",
        "my_number = 5\n",
        "\n",
        "# Call the function\n",
        "demo_mutable_immutable(my_list, my_number)\n",
        "\n",
        "# Print the values after function call to show the changes\n",
        "print(\"List after function call:\", my_list)  # List should be modified\n",
        "print(\"Number after function call:\", my_number)  # Number should remain the same\n"
      ],
      "metadata": {
        "id": "x8sMardhfh9-"
      },
      "execution_count": null,
      "outputs": []
    },
    {
      "cell_type": "markdown",
      "source": [
        "8, Write a program to demonstrate the use of logical operators?"
      ],
      "metadata": {
        "id": "ysOmcvltfvEA"
      }
    },
    {
      "cell_type": "code",
      "source": [
        "# Define some sample variables\n",
        "x = 10\n",
        "y = 5\n",
        "z = 20\n",
        "\n",
        "# Using 'and' operator (both conditions must be True)\n",
        "if x > y and z > x:\n",
        "    print(\"Both conditions are True (x > y and z > x)\")\n",
        "\n",
        "# Using 'or' operator (at least one condition must be True)\n",
        "if x > y or x < z:\n",
        "    print(\"At least one condition is True (x > y or x < z)\")\n",
        "\n",
        "# Using 'not' operator (negates the condition)\n",
        "if not (x > z):\n",
        "    print(\"Condition is False (not (x > z))\")\n"
      ],
      "metadata": {
        "id": "PJV5wmRjf7zW"
      },
      "execution_count": null,
      "outputs": []
    },
    {
      "cell_type": "markdown",
      "source": [
        "9. Write a Python program to convert user input from string to integer, float, and boolean types?\n"
      ],
      "metadata": {
        "id": "j3mmTVIHf-zn"
      }
    },
    {
      "cell_type": "code",
      "source": [
        "# Get user input\n",
        "user_input = input(\"Enter a value: \")\n",
        "\n",
        "# Convert the input to different types\n",
        "int_value = int(user_input)  # Convert to integer\n",
        "float_value = float(user_input)  # Convert to float\n",
        "bool_value = user_input.lower() in ['true', '1', 'yes']  # Convert to boolean\n",
        "\n",
        "# Display the converted values\n",
        "print(f\"String input: {user_input}\")\n",
        "print(f\"Converted to Integer: {int_value}\")\n",
        "print(f\"Converted to Float: {float_value}\")\n",
        "print(f\"Converted to Boolean: {bool_value}\")\n"
      ],
      "metadata": {
        "id": "_6KRJz4RgR-f"
      },
      "execution_count": null,
      "outputs": []
    },
    {
      "cell_type": "markdown",
      "source": [
        "10. Write code to demonstrate type casting with list elements"
      ],
      "metadata": {
        "id": "LdyZYBNhgYHz"
      }
    },
    {
      "cell_type": "code",
      "source": [
        "# Original list with mixed types (string, integer, float)\n",
        "original_list = ['10', '20.5', '30', 40]\n",
        "\n",
        "# Type casting elements in the list\n",
        "int_list = [int(x) if isinstance(x, str) else x for x in original_list]  # Convert strings to integers\n",
        "float_list = [float(x) if isinstance(x, str) else x for x in original_list]  # Convert strings to floats\n",
        "str_list = [str(x) for x in original_list]  # Convert all elements to strings\n",
        "\n",
        "# Display the original and converted lists\n",
        "print(\"Original list:\", original_list)\n",
        "print(\"List with integers:\", int_list)\n",
        "print(\"List with floats:\", float_list)\n",
        "print(\"List with strings:\", str_list)\n"
      ],
      "metadata": {
        "id": "b6-ueYSzgop4"
      },
      "execution_count": null,
      "outputs": []
    },
    {
      "cell_type": "markdown",
      "source": [
        "11.Write a program that checks if a number is positive, negative, or zero?\n"
      ],
      "metadata": {
        "id": "dpyIb_eygtJa"
      }
    },
    {
      "cell_type": "code",
      "source": [
        "number = float(input(\"10\"))\n",
        "if number > 0:\n",
        "    print(\"The number is positive.\")\n",
        "elif number < 0:\n",
        "    print(\"The number is negative.\")\n",
        "else:\n",
        "    print(\"The number is zero.\")"
      ],
      "metadata": {
        "id": "V5cVP04kg3vV"
      },
      "execution_count": null,
      "outputs": []
    },
    {
      "cell_type": "markdown",
      "source": [
        "12. Write a for loop to print numbers from 1 to 100"
      ],
      "metadata": {
        "id": "WgIKkEGmhYFO"
      }
    },
    {
      "cell_type": "code",
      "source": [
        "for i in range(1,101):\n",
        "  print(i)"
      ],
      "metadata": {
        "id": "bI2L30Fbhhoc"
      },
      "execution_count": null,
      "outputs": []
    },
    {
      "cell_type": "markdown",
      "source": [],
      "metadata": {
        "id": "3jGBtZpJhy-_"
      }
    },
    {
      "cell_type": "markdown",
      "source": [
        "13. Write a Python program to find the sum of all even numbers between 1 and 50"
      ],
      "metadata": {
        "id": "fLIchfPNhzCJ"
      }
    },
    {
      "cell_type": "code",
      "source": [
        "print(\"Sum of all even numbers between 1 and 50:\", sum_of_even_numbers)"
      ],
      "metadata": {
        "id": "K8uh2Fd4h12w"
      },
      "execution_count": null,
      "outputs": []
    },
    {
      "cell_type": "markdown",
      "source": [
        "14. Write a program to reverse a string using a while loop"
      ],
      "metadata": {
        "id": "n3_CFOZMiJ0K"
      }
    },
    {
      "cell_type": "markdown",
      "source": [
        "\n",
        "\n"
      ],
      "metadata": {
        "id": "HS7OLLP_iT1E"
      }
    },
    {
      "cell_type": "code",
      "source": [
        "# Get user input\n",
        "string = input(\"Enter a string: \")\n",
        "\n",
        "# Initialize an empty string to store the reversed string\n",
        "reversed_string = \"\"\n",
        "\n",
        "# Set a counter to the last index of the string\n",
        "index = len(string) - 1\n",
        "\n",
        "# Use a while loop to iterate through the string in reverse order\n",
        "while index >= 0:\n",
        "    reversed_string += string[index]  # Add each character to the reversed string\n",
        "    index -= 1  # Move to the previous character\n",
        "\n",
        "# Print the reversed string\n",
        "print(\"Reversed string:\", reversed_string)\n"
      ],
      "metadata": {
        "id": "_Q7_GFh5ii2h"
      },
      "execution_count": null,
      "outputs": []
    },
    {
      "cell_type": "markdown",
      "source": [
        "2\u001d0 Write a Python program to calculate the factorial of a number provided by the user using a while loop."
      ],
      "metadata": {
        "id": "WsGhBkvDidc6"
      }
    },
    {
      "cell_type": "code",
      "source": [
        "# Get user input\n",
        "number = int(input(\"Enter a number: \"))\n",
        "\n",
        "# Initialize variables\n",
        "factorial = 1\n",
        "counter = 1\n",
        "\n",
        "# Use a while loop to calculate the factorial\n",
        "while counter <= number:\n",
        "    factorial *= counter  # Multiply the current value of factorial by the counter\n",
        "    counter += 1  # Increment the counter\n",
        "\n",
        "# Print the factorial\n",
        "print(f\"The factorial of {number} is: {factorial}\")\n"
      ],
      "metadata": {
        "id": "lNr-yGP8ivKi"
      },
      "execution_count": null,
      "outputs": []
    }
  ]
}